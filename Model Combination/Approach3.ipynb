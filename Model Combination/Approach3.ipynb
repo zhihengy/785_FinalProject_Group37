{
 "cells": [
  {
   "cell_type": "markdown",
   "id": "ff61dbf9",
   "metadata": {
    "papermill": {
     "duration": 0.005686,
     "end_time": "2024-03-15T08:21:55.505824",
     "exception": false,
     "start_time": "2024-03-15T08:21:55.500138",
     "status": "completed"
    },
    "tags": []
   },
   "source": [
    "# Introduction\n",
    "Reference: https://www.kaggle.com/code/naomideenen/inference\n",
    "## Acknowledgements\n",
    "The original base of this notebook was copied from @andreasbis. We thank them for supplying a useful baseline to expand upon. Please take a look at their work: https://www.kaggle.com/code/andreasbis/hms-inference-lb-0-41."
   ]
  },
  {
   "cell_type": "markdown",
   "id": "bbb0d581",
   "metadata": {
    "papermill": {
     "duration": 0.004983,
     "end_time": "2024-03-15T08:21:55.517062",
     "exception": false,
     "start_time": "2024-03-15T08:21:55.512079",
     "status": "completed"
    },
    "tags": []
   },
   "source": [
    "# Imports"
   ]
  },
  {
   "cell_type": "code",
   "execution_count": 1,
   "id": "09b3b44a",
   "metadata": {
    "execution": {
     "iopub.execute_input": "2024-03-15T08:21:55.529452Z",
     "iopub.status.busy": "2024-03-15T08:21:55.528917Z",
     "iopub.status.idle": "2024-03-15T08:22:05.669573Z",
     "shell.execute_reply": "2024-03-15T08:22:05.667100Z"
    },
    "papermill": {
     "duration": 10.150376,
     "end_time": "2024-03-15T08:22:05.672501",
     "exception": false,
     "start_time": "2024-03-15T08:21:55.522125",
     "status": "completed"
    },
    "tags": []
   },
   "outputs": [
    {
     "data": {
      "text/plain": [
       "0"
      ]
     },
     "execution_count": 1,
     "metadata": {},
     "output_type": "execute_result"
    }
   ],
   "source": [
    "import gc\n",
    "import os\n",
    "import random\n",
    "import warnings\n",
    "import numpy as np\n",
    "import pandas as pd\n",
    "from IPython.display import display\n",
    "\n",
    "import timm\n",
    "import torch\n",
    "import torch.nn as nn  \n",
    "import torch.optim as optim\n",
    "import torch.nn.functional as F\n",
    "import torchvision.transforms as transforms\n",
    "\n",
    "from scipy import signal\n",
    "\n",
    "warnings.filterwarnings('ignore', category=Warning)\n",
    "gc.collect()"
   ]
  },
  {
   "cell_type": "markdown",
   "id": "744972c6",
   "metadata": {
    "papermill": {
     "duration": 0.004959,
     "end_time": "2024-03-15T08:22:05.683003",
     "exception": false,
     "start_time": "2024-03-15T08:22:05.678044",
     "status": "completed"
    },
    "tags": []
   },
   "source": [
    "# Configuration"
   ]
  },
  {
   "cell_type": "code",
   "execution_count": 2,
   "id": "a259d105",
   "metadata": {
    "execution": {
     "iopub.execute_input": "2024-03-15T08:22:05.695595Z",
     "iopub.status.busy": "2024-03-15T08:22:05.695134Z",
     "iopub.status.idle": "2024-03-15T08:22:05.709761Z",
     "shell.execute_reply": "2024-03-15T08:22:05.708562Z"
    },
    "papermill": {
     "duration": 0.0241,
     "end_time": "2024-03-15T08:22:05.712392",
     "exception": false,
     "start_time": "2024-03-15T08:22:05.688292",
     "status": "completed"
    },
    "tags": []
   },
   "outputs": [],
   "source": [
    "class Config:\n",
    "    seed = 3131\n",
    "    image_transform = transforms.Resize((512, 512))\n",
    "    num_folds = 5\n",
    "    dataset_wide_mean = -0.2972692229201065 #From Train notebook\n",
    "    dataset_wide_std = 2.5997336315611026 #From Train notebook\n",
    "    ownspec_mean = 7.29084372799223e-05 # From Train spectrograms notebook\n",
    "    ownspec_std = 4.510082606216031 # From Train spectrograms notebook\n",
    "    \n",
    "def set_seed(seed):\n",
    "    torch.backends.cudnn.deterministic = True\n",
    "    torch.backends.cudnn.benchmark = True\n",
    "    \n",
    "    torch.manual_seed(seed)\n",
    "    np.random.seed(seed)\n",
    "    random.seed(seed)\n",
    "    \n",
    "set_seed(Config.seed)"
   ]
  },
  {
   "cell_type": "markdown",
   "id": "9e3c5470",
   "metadata": {
    "papermill": {
     "duration": 0.005095,
     "end_time": "2024-03-15T08:22:05.723088",
     "exception": false,
     "start_time": "2024-03-15T08:22:05.717993",
     "status": "completed"
    },
    "tags": []
   },
   "source": [
    "# Data Loading"
   ]
  },
  {
   "cell_type": "code",
   "execution_count": 3,
   "id": "b6e8a347",
   "metadata": {
    "execution": {
     "iopub.execute_input": "2024-03-15T08:22:05.736219Z",
     "iopub.status.busy": "2024-03-15T08:22:05.734974Z",
     "iopub.status.idle": "2024-03-15T08:22:05.998542Z",
     "shell.execute_reply": "2024-03-15T08:22:05.997172Z"
    },
    "papermill": {
     "duration": 0.272802,
     "end_time": "2024-03-15T08:22:06.001138",
     "exception": false,
     "start_time": "2024-03-15T08:22:05.728336",
     "status": "completed"
    },
    "tags": []
   },
   "outputs": [
    {
     "data": {
      "text/html": [
       "<div>\n",
       "<style scoped>\n",
       "    .dataframe tbody tr th:only-of-type {\n",
       "        vertical-align: middle;\n",
       "    }\n",
       "\n",
       "    .dataframe tbody tr th {\n",
       "        vertical-align: top;\n",
       "    }\n",
       "\n",
       "    .dataframe thead th {\n",
       "        text-align: right;\n",
       "    }\n",
       "</style>\n",
       "<table border=\"1\" class=\"dataframe\">\n",
       "  <thead>\n",
       "    <tr style=\"text-align: right;\">\n",
       "      <th></th>\n",
       "      <th>eeg_id</th>\n",
       "      <th>seizure_vote</th>\n",
       "      <th>lpd_vote</th>\n",
       "      <th>gpd_vote</th>\n",
       "      <th>lrda_vote</th>\n",
       "      <th>grda_vote</th>\n",
       "      <th>other_vote</th>\n",
       "      <th>spectrogram_id</th>\n",
       "      <th>patient_id</th>\n",
       "      <th>path_spec</th>\n",
       "      <th>path_eeg</th>\n",
       "    </tr>\n",
       "  </thead>\n",
       "  <tbody>\n",
       "    <tr>\n",
       "      <th>0</th>\n",
       "      <td>3911565283</td>\n",
       "      <td>0.166667</td>\n",
       "      <td>0.166667</td>\n",
       "      <td>0.166667</td>\n",
       "      <td>0.166667</td>\n",
       "      <td>0.166667</td>\n",
       "      <td>0.166667</td>\n",
       "      <td>853520</td>\n",
       "      <td>6885</td>\n",
       "      <td>/kaggle/input/hms-harmful-brain-activity-class...</td>\n",
       "      <td>/kaggle/input/hms-harmful-brain-activity-class...</td>\n",
       "    </tr>\n",
       "  </tbody>\n",
       "</table>\n",
       "</div>"
      ],
      "text/plain": [
       "       eeg_id  seizure_vote  lpd_vote  gpd_vote  lrda_vote  grda_vote  \\\n",
       "0  3911565283      0.166667  0.166667  0.166667   0.166667   0.166667   \n",
       "\n",
       "   other_vote  spectrogram_id  patient_id  \\\n",
       "0    0.166667          853520        6885   \n",
       "\n",
       "                                           path_spec  \\\n",
       "0  /kaggle/input/hms-harmful-brain-activity-class...   \n",
       "\n",
       "                                            path_eeg  \n",
       "0  /kaggle/input/hms-harmful-brain-activity-class...  "
      ]
     },
     "metadata": {},
     "output_type": "display_data"
    },
    {
     "data": {
      "text/plain": [
       "0"
      ]
     },
     "execution_count": 3,
     "metadata": {},
     "output_type": "execute_result"
    }
   ],
   "source": [
    "test_df = pd.read_csv(\"/kaggle/input/hms-harmful-brain-activity-classification/test.csv\")\n",
    "submission = pd.read_csv(\"/kaggle/input/hms-harmful-brain-activity-classification/sample_submission.csv\")\n",
    "\n",
    "submission = submission.merge(test_df, on='eeg_id', how='left')\n",
    "submission['path_spec'] = submission['spectrogram_id'].apply(lambda x: f\"/kaggle/input/hms-harmful-brain-activity-classification/test_spectrograms/{x}.parquet\")\n",
    "submission['path_eeg'] = submission['eeg_id'].apply(lambda x: f\"/kaggle/input/hms-harmful-brain-activity-classification/test_eegs/{x}.parquet\")\n",
    "\n",
    "display(submission)\n",
    "\n",
    "gc.collect()"
   ]
  },
  {
   "cell_type": "markdown",
   "id": "57981cf4",
   "metadata": {
    "papermill": {
     "duration": 0.005429,
     "end_time": "2024-03-15T08:22:06.012372",
     "exception": false,
     "start_time": "2024-03-15T08:22:06.006943",
     "status": "completed"
    },
    "tags": []
   },
   "source": [
    "# Model Loading"
   ]
  },
  {
   "cell_type": "code",
   "execution_count": 4,
   "id": "cf051bfa",
   "metadata": {
    "execution": {
     "iopub.execute_input": "2024-03-15T08:22:06.026436Z",
     "iopub.status.busy": "2024-03-15T08:22:06.026009Z",
     "iopub.status.idle": "2024-03-15T08:22:15.026674Z",
     "shell.execute_reply": "2024-03-15T08:22:15.025524Z"
    },
    "papermill": {
     "duration": 9.010672,
     "end_time": "2024-03-15T08:22:15.029350",
     "exception": false,
     "start_time": "2024-03-15T08:22:06.018678",
     "status": "completed"
    },
    "tags": []
   },
   "outputs": [
    {
     "data": {
      "text/plain": [
       "18"
      ]
     },
     "execution_count": 4,
     "metadata": {},
     "output_type": "execute_result"
    }
   ],
   "source": [
    "models = []\n",
    "\n",
    "# Load in original EfficientnetB0 model\n",
    "for i in range(Config.num_folds):\n",
    "    model_effnet_b0 = timm.create_model('efficientnet_b0', pretrained=False, num_classes=6, in_chans=1)\n",
    "    model_effnet_b0.load_state_dict(torch.load(f'/kaggle/input/hms-train-efficientnetb0/efficientnet_b0_fold{i}.pth', map_location=torch.device('cpu')))\n",
    "    models.append(model_effnet_b0)\n",
    "    \n",
    "models_datawide = []\n",
    "# Load in hyperparameter optimized EfficientnetB1\n",
    "for i in range(Config.num_folds):\n",
    "    model_effnet_b1 = timm.create_model('efficientnet_b1', pretrained=False, num_classes=6, in_chans=1)\n",
    "    model_effnet_b1.load_state_dict(torch.load(f'/kaggle/input/train/efficientnet_b1_fold{i}.pth', map_location=torch.device('cpu')))\n",
    "    models_datawide.append(model_effnet_b1)\n",
    "    \n",
    "models_ownspec = []\n",
    "# Load in EfficientnetB1 with new spectrograms\n",
    "for i in range(Config.num_folds):\n",
    "    model_effnet_b1 = timm.create_model('efficientnet_b1', pretrained=False, num_classes=6, in_chans=1)\n",
    "    model_effnet_b1.load_state_dict(torch.load(f'/kaggle/input/efficientnet-b1-ownspectrograms/efficientnet_b1_fold{i}_datawide_CosineAnnealingLR_0.001_False.pth', map_location=torch.device('cpu')))\n",
    "    models_ownspec.append(model_effnet_b1)\n",
    "    \n",
    "gc.collect()"
   ]
  },
  {
   "cell_type": "markdown",
   "id": "86b4ff2c",
   "metadata": {
    "papermill": {
     "duration": 0.005772,
     "end_time": "2024-03-15T08:22:15.041168",
     "exception": false,
     "start_time": "2024-03-15T08:22:15.035396",
     "status": "completed"
    },
    "tags": []
   },
   "source": [
    "# Model Prediction"
   ]
  },
  {
   "cell_type": "code",
   "execution_count": 5,
   "id": "77b18405",
   "metadata": {
    "execution": {
     "iopub.execute_input": "2024-03-15T08:22:15.055563Z",
     "iopub.status.busy": "2024-03-15T08:22:15.054896Z",
     "iopub.status.idle": "2024-03-15T08:22:19.158204Z",
     "shell.execute_reply": "2024-03-15T08:22:19.157010Z"
    },
    "papermill": {
     "duration": 4.11392,
     "end_time": "2024-03-15T08:22:19.161164",
     "exception": false,
     "start_time": "2024-03-15T08:22:15.047244",
     "status": "completed"
    },
    "tags": []
   },
   "outputs": [
    {
     "data": {
      "text/plain": [
       "0"
      ]
     },
     "execution_count": 5,
     "metadata": {},
     "output_type": "execute_result"
    }
   ],
   "source": [
    "test_predictions = []\n",
    "\n",
    "def create_spectrogram(data):\n",
    "    \"\"\"This function will create a spectrogram based on EEG-data\"\"\"\n",
    "    nperseg = 150  # Length of each segment\n",
    "    noverlap = 128  # Overlap between segments\n",
    "    NFFT = max(256, 2 ** int(np.ceil(np.log2(nperseg))))\n",
    "\n",
    "    # LL Spec = ( spec(Fp1 - F7) + spec(F7 - T3) + spec(T3 - T5) + spec(T5 - O1) )/4\n",
    "    freqs, t,spectrum_LL1 = signal.spectrogram(data['Fp1']-data['F7'],nfft=NFFT,noverlap = noverlap,nperseg=nperseg)\n",
    "    freqs, t,spectrum_LL2 = signal.spectrogram(data['F7']-data['T3'],nfft=NFFT, noverlap = noverlap,nperseg=nperseg)\n",
    "    freqs, t,spectrum_LL3 = signal.spectrogram(data['T3']-data['T5'],nfft=NFFT, noverlap = noverlap,nperseg=nperseg)\n",
    "    freqs, t,spectrum_LL4 = signal.spectrogram(data['T5']-data['O1'],nfft=NFFT, noverlap = noverlap,nperseg=nperseg)\n",
    "\n",
    "    LL = (spectrum_LL1+ spectrum_LL2 +spectrum_LL3 + spectrum_LL4)/4\n",
    "\n",
    "    # LP Spec = ( spec(Fp1 - F3) + spec(F3 - C3) + spec(C3 - P3) + spec(P3 - O1) )/4\n",
    "    freqs, t,spectrum_LP1 = signal.spectrogram(data['Fp1']-data['F3'],nfft=NFFT, noverlap = noverlap,nperseg=nperseg)\n",
    "    freqs, t,spectrum_LP2 = signal.spectrogram(data['F3']-data['C3'],nfft=NFFT, noverlap = noverlap,nperseg=nperseg)\n",
    "    freqs, t,spectrum_LP3 = signal.spectrogram(data['C3']-data['P3'],nfft=NFFT, noverlap = noverlap,nperseg=nperseg)\n",
    "    freqs, t,spectrum_LP4 = signal.spectrogram(data['P3']-data['O1'],nfft=NFFT, noverlap = noverlap,nperseg=nperseg)\n",
    "\n",
    "    LP = (spectrum_LP1+ spectrum_LP2 +spectrum_LP3 + spectrum_LP4)/4\n",
    "\n",
    "    # RP Spec = ( spec(Fp2 - F4) + spec(F4 - C4) + spec(C4 - P4) + spec(P4 - O2) )/4\n",
    "    freqs, t,spectrum_RP1 = signal.spectrogram(data['Fp2']-data['F4'],nfft=NFFT, noverlap = noverlap,nperseg=nperseg)\n",
    "    freqs, t,spectrum_RP2 = signal.spectrogram(data['F4']-data['C4'],nfft=NFFT, noverlap = noverlap,nperseg=nperseg)\n",
    "    freqs, t,spectrum_RP3 = signal.spectrogram(data['C4']-data['P4'],nfft=NFFT, noverlap = noverlap,nperseg=nperseg)\n",
    "    freqs, t,spectrum_RP4 = signal.spectrogram(data['P4']-data['O2'],nfft=NFFT, noverlap = noverlap,nperseg=nperseg)\n",
    "\n",
    "    RP = (spectrum_RP1+ spectrum_RP2 +spectrum_RP3 + spectrum_RP4)/4\n",
    "\n",
    "\n",
    "    # RL Spec = ( spec(Fp2 - F8) + spec(F8 - T4) + spec(T4 - T6) + spec(T6 - O2) )/4\n",
    "    freqs, t,spectrum_RL1 = signal.spectrogram(data['Fp2']-data['F8'],nfft=NFFT, noverlap = noverlap,nperseg=nperseg)\n",
    "    freqs, t,spectrum_RL2 = signal.spectrogram(data['F8']-data['T4'],nfft=NFFT, noverlap = noverlap,nperseg=nperseg)\n",
    "    freqs, t,spectrum_RL3 = signal.spectrogram(data['T4']-data['T6'],nfft=NFFT, noverlap = noverlap,nperseg=nperseg)\n",
    "    freqs, t,spectrum_RL4 = signal.spectrogram(data['T6']-data['O2'],nfft=NFFT, noverlap = noverlap,nperseg=nperseg)\n",
    "    RL = (spectrum_RL1+ spectrum_RL2 +spectrum_RL3 + spectrum_RL4)/4\n",
    "    spectogram = np.concatenate((LL, LP,RP,RL), axis=0)\n",
    "    return spectogram\n",
    "\n",
    "def preprocess_ownspec(path_to_parquet):\n",
    "    \"\"\"The data will be processed from EEG to spectrogramdata\"\"\"\n",
    "    data = pd.read_parquet(path_to_parquet)\n",
    "    data = create_spectrogram(data)\n",
    "    mask = np.isnan(data)\n",
    "    data[mask] = -1\n",
    "    data = np.clip(data, np.exp(-6), np.exp(10))\n",
    "    data = np.log(data)\n",
    "    \n",
    "    return data \n",
    "\n",
    "def preprocess(path_to_parquet):\n",
    "    data = pd.read_parquet(path_to_parquet)\n",
    "    data = data.fillna(-1).values[:, 1:].T\n",
    "    data = np.clip(data, np.exp(-6), np.exp(10))\n",
    "    data = np.log(data)\n",
    "    \n",
    "    return data\n",
    "\n",
    "\n",
    "def normalize_datawide(data_point):\n",
    "    \"\"\"The spectrogram data will be normalized data wide.\"\"\"\n",
    "    eps = 1e-6\n",
    "\n",
    "    data_point = (data_point - Config.dataset_wide_mean) / (Config.dataset_wide_std + eps)\n",
    "\n",
    "    data_tensor = torch.unsqueeze(torch.Tensor(data_point), dim=0)\n",
    "    data_point = Config.image_transform(data_tensor)\n",
    "\n",
    "    return data_point\n",
    "\n",
    "\n",
    "def normalize_datawide_ownspec(data):\n",
    "    \"\"\"The new spectrogram data will be normalized data wide.\"\"\"\n",
    "    eps = 1e-6\n",
    "    \n",
    "    data = (data - Config.ownspec_mean) / (Config.ownspec_std + eps)\n",
    "    data_tensor = torch.unsqueeze(torch.Tensor(data), dim=0)\n",
    "    data = Config.image_transform(data_tensor)\n",
    "    \n",
    "    return data\n",
    "\n",
    "\n",
    "def normalize_instance_wise(data_point):\n",
    "    \"\"\"The spectrogram data will be normalized instance wise.\"\"\"\n",
    "    eps = 1e-6\n",
    "    \n",
    "    data_mean = data_point.mean(axis=(0, 1))\n",
    "    data_std = data_point.std(axis=(0, 1))\n",
    "    data_point = (data_point - data_mean) / (data_std + eps)\n",
    "    \n",
    "    data_tensor = torch.unsqueeze(torch.Tensor(data_point), dim=0)\n",
    "    data_point = Config.image_transform(data_tensor)\n",
    "    \n",
    "    return data_point\n",
    "\n",
    "# Loop over samples\n",
    "for index in submission.index:\n",
    "    test_predictions_per_model = []\n",
    "    \n",
    "    preprocessed_data = preprocess(submission.iloc[index]['path_spec'])\n",
    "    preprocessed_data_ownspec = preprocess_ownspec(submission.iloc[index]['path_eeg'])\n",
    "    \n",
    "    # Predict based on original EfficientnetB0 models. \n",
    "    for i in range(len(models)):\n",
    "        models[i].eval()\n",
    "        \n",
    "        current_parquet_data = normalize_instance_wise(preprocessed_data).unsqueeze(0)\n",
    "        \n",
    "        with torch.no_grad():\n",
    "            model_output = models[i](current_parquet_data)\n",
    "            current_model_prediction = F.softmax(model_output)[0].detach().cpu().numpy()\n",
    "            \n",
    "        test_predictions_per_model.append(current_model_prediction)\n",
    "    \n",
    "    # Predict based on hyperparameter optimized EffcientnetB1.\n",
    "    for i in range(len(models_datawide)):\n",
    "        models_datawide[i].eval()\n",
    "        \n",
    "        current_parquet_data = normalize_datawide(preprocessed_data).unsqueeze(0)\n",
    "        \n",
    "        with torch.no_grad():\n",
    "            model_output = models_datawide[i](current_parquet_data)\n",
    "            current_model_prediction = F.softmax(model_output)[0].detach().cpu().numpy()\n",
    "            \n",
    "        test_predictions_per_model.append(current_model_prediction)\n",
    "    \n",
    "    # Predict based on EfficientnetB1 model with new spectrograms.\n",
    "    for i in range(len(models_ownspec)):\n",
    "        models_ownspec[i].eval()\n",
    "        \n",
    "        current_parquet_data = normalize_datawide_ownspec(preprocessed_data_ownspec).unsqueeze(0)\n",
    "        \n",
    "        with torch.no_grad():\n",
    "            model_output = models_ownspec[i](current_parquet_data)\n",
    "            current_model_prediction = F.softmax(model_output)[0].detach().cpu().numpy()\n",
    "            \n",
    "        test_predictions_per_model.append(current_model_prediction)\n",
    "    \n",
    "    # The mean of all models is taken.\n",
    "    ensemble_prediction = np.mean(test_predictions_per_model,axis=0)\n",
    "    \n",
    "    test_predictions.append(ensemble_prediction)\n",
    "\n",
    "test_predictions = np.array(test_predictions)\n",
    "\n",
    "gc.collect()"
   ]
  },
  {
   "cell_type": "markdown",
   "id": "8c500045",
   "metadata": {
    "papermill": {
     "duration": 0.005903,
     "end_time": "2024-03-15T08:22:19.173562",
     "exception": false,
     "start_time": "2024-03-15T08:22:19.167659",
     "status": "completed"
    },
    "tags": []
   },
   "source": [
    "# Submission"
   ]
  },
  {
   "cell_type": "code",
   "execution_count": 6,
   "id": "8939351a",
   "metadata": {
    "execution": {
     "iopub.execute_input": "2024-03-15T08:22:19.188381Z",
     "iopub.status.busy": "2024-03-15T08:22:19.187691Z",
     "iopub.status.idle": "2024-03-15T08:22:19.434945Z",
     "shell.execute_reply": "2024-03-15T08:22:19.433562Z"
    },
    "papermill": {
     "duration": 0.258144,
     "end_time": "2024-03-15T08:22:19.437867",
     "exception": false,
     "start_time": "2024-03-15T08:22:19.179723",
     "status": "completed"
    },
    "tags": []
   },
   "outputs": [
    {
     "data": {
      "text/html": [
       "<div>\n",
       "<style scoped>\n",
       "    .dataframe tbody tr th:only-of-type {\n",
       "        vertical-align: middle;\n",
       "    }\n",
       "\n",
       "    .dataframe tbody tr th {\n",
       "        vertical-align: top;\n",
       "    }\n",
       "\n",
       "    .dataframe thead th {\n",
       "        text-align: right;\n",
       "    }\n",
       "</style>\n",
       "<table border=\"1\" class=\"dataframe\">\n",
       "  <thead>\n",
       "    <tr style=\"text-align: right;\">\n",
       "      <th></th>\n",
       "      <th>eeg_id</th>\n",
       "      <th>seizure_vote</th>\n",
       "      <th>lpd_vote</th>\n",
       "      <th>gpd_vote</th>\n",
       "      <th>lrda_vote</th>\n",
       "      <th>grda_vote</th>\n",
       "      <th>other_vote</th>\n",
       "    </tr>\n",
       "  </thead>\n",
       "  <tbody>\n",
       "    <tr>\n",
       "      <th>0</th>\n",
       "      <td>3911565283</td>\n",
       "      <td>0.034198</td>\n",
       "      <td>0.07485</td>\n",
       "      <td>0.001024</td>\n",
       "      <td>0.386975</td>\n",
       "      <td>0.016717</td>\n",
       "      <td>0.486236</td>\n",
       "    </tr>\n",
       "  </tbody>\n",
       "</table>\n",
       "</div>"
      ],
      "text/plain": [
       "       eeg_id  seizure_vote  lpd_vote  gpd_vote  lrda_vote  grda_vote  \\\n",
       "0  3911565283      0.034198   0.07485  0.001024   0.386975   0.016717   \n",
       "\n",
       "   other_vote  \n",
       "0    0.486236  "
      ]
     },
     "metadata": {},
     "output_type": "display_data"
    },
    {
     "data": {
      "text/plain": [
       "0"
      ]
     },
     "execution_count": 6,
     "metadata": {},
     "output_type": "execute_result"
    }
   ],
   "source": [
    "submission = pd.read_csv(\"/kaggle/input/hms-harmful-brain-activity-classification/sample_submission.csv\")\n",
    "labels = ['seizure', 'lpd', 'gpd', 'lrda', 'grda', 'other']\n",
    "\n",
    "for i in range(len(labels)):\n",
    "    submission[f'{labels[i]}_vote'] = test_predictions[:, i]\n",
    "\n",
    "submission.to_csv(\"submission.csv\", index=None)\n",
    "display(submission)\n",
    "\n",
    "gc.collect()"
   ]
  }
 ],
 "metadata": {
  "kaggle": {
   "accelerator": "none",
   "dataSources": [
    {
     "databundleVersionId": 7469972,
     "sourceId": 59093,
     "sourceType": "competition"
    },
    {
     "datasetId": 4504881,
     "sourceId": 7713961,
     "sourceType": "datasetVersion"
    },
    {
     "datasetId": 4503036,
     "sourceId": 7751576,
     "sourceType": "datasetVersion"
    },
    {
     "datasetId": 4571300,
     "sourceId": 7805987,
     "sourceType": "datasetVersion"
    },
    {
     "sourceId": 160674831,
     "sourceType": "kernelVersion"
    },
    {
     "sourceId": 160700706,
     "sourceType": "kernelVersion"
    },
    {
     "sourceId": 165876189,
     "sourceType": "kernelVersion"
    }
   ],
   "dockerImageVersionId": 30635,
   "isGpuEnabled": false,
   "isInternetEnabled": false,
   "language": "python",
   "sourceType": "notebook"
  },
  "kernelspec": {
   "display_name": "Python 3",
   "language": "python",
   "name": "python3"
  },
  "language_info": {
   "codemirror_mode": {
    "name": "ipython",
    "version": 3
   },
   "file_extension": ".py",
   "mimetype": "text/x-python",
   "name": "python",
   "nbconvert_exporter": "python",
   "pygments_lexer": "ipython3",
   "version": "3.10.12"
  },
  "papermill": {
   "default_parameters": {},
   "duration": 30.182621,
   "end_time": "2024-03-15T08:22:20.970566",
   "environment_variables": {},
   "exception": null,
   "input_path": "__notebook__.ipynb",
   "output_path": "__notebook__.ipynb",
   "parameters": {},
   "start_time": "2024-03-15T08:21:50.787945",
   "version": "2.4.0"
  }
 },
 "nbformat": 4,
 "nbformat_minor": 5
}
